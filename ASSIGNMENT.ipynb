{
 "cells": [
  {
   "cell_type": "markdown",
   "metadata": {},
   "source": [
    "GROUP WORK\n",
    "\n",
    "Name: 1.UWASE Hamissa          21RP08189\n",
    "      2.KABAYIZA Elie          21RP00006\n",
    "      3.UKUNDAYEZU Hermogene   21RP02150"
   ]
  },
  {
   "cell_type": "markdown",
   "metadata": {},
   "source": [
    "Q1. Pizza Toppings: Write a loop that prompts the user to enter a series of pizza toppings until they enter a 'quit' value. As they enter each topping, print a message saying you’ll add that topping to their pizza. "
   ]
  },
  {
   "cell_type": "code",
   "execution_count": null,
   "metadata": {},
   "outputs": [],
   "source": [
    "toppings = []\n",
    "\n",
    "while True:\n",
    "  topping = input(\"Enter a pizza topping (or 'quit' to finish): \").lower()\n",
    "  if topping == \"quit\":\n",
    "    break\n",
    "\n",
    "  toppings.append(topping)\n",
    "  print(f\"Adding {topping} to your pizza!\")\n",
    "\n",
    "if toppings:\n",
    "  print(\"Your pizza toppings:\")\n",
    "  for topping in toppings:\n",
    "    print(topping)\n",
    "else:\n",
    "  print(\"No toppings added to your pizza.\")\n"
   ]
  },
  {
   "cell_type": "markdown",
   "metadata": {},
   "source": [
    "Q2. Movie Tickets: A movie theatre charges different ticket prices depending on a person’s age. If a person is under the age of 3, the ticket is free; if they are between 3 and 12, the ticket is $10; and if they are over age 12, the ticket is $15. Write a loop in which you ask users their age, and then tell them the cost of their movie ticket."
   ]
  },
  {
   "cell_type": "code",
   "execution_count": 7,
   "metadata": {},
   "outputs": [
    {
     "name": "stdout",
     "output_type": "stream",
     "text": [
      "You are 2 years old and, \n",
      "  You have free ticket!\n"
     ]
    }
   ],
   "source": [
    "\n",
    "userinput = \"\\nHow old are you?\"\n",
    "userinput += \"\\nEnter 'quit' when you are finished. \"\n",
    "\n",
    "while True:\n",
    "    age = input(userinput)\n",
    "    if age == 'quit':\n",
    "        break\n",
    "    ages = int(age)\n",
    "\n",
    "    if ages < 3:\n",
    "        print(f\"You are {ages} years old and, \")\n",
    "        print(\"  You have free ticket!\")\n",
    "    elif ages < 13:\n",
    "        print(f\"You are {ages} years old and, \")\n",
    "        print(\"  Your ticket is $10\")\n",
    "    else:\n",
    "        print(f\"You are {ages} years old and, \")\n",
    "        print(\"  Your ticket is $15\")"
   ]
  },
  {
   "cell_type": "markdown",
   "metadata": {},
   "source": [
    "Q3.\tThree Exits: Write different versions of either Exercise 1 or 2 that do each of the following at least once:\n",
    "-- \tUse a conditional test in the while statement to stop the loop.\n",
    "--  Use an active variable to control how long the loop runs.\n",
    "--  Use a break statement to exit the loop when the user enters a 'quit' value.\n"
   ]
  },
  {
   "cell_type": "code",
   "execution_count": null,
   "metadata": {},
   "outputs": [],
   "source": [
    "print(\"Exercise 1\")\n",
    "\n",
    "toppings = []\n",
    "\n",
    "while True:\n",
    "  topping = input(\"Enter a pizza topping (or 'quit' to finish): \").lower()\n",
    "  if topping == \"quit\":\n",
    "    break\n",
    "\n",
    "  toppings.append(topping)\n",
    "  print(f\"Adding {topping} to your pizza!\")\n",
    "\n",
    "if toppings:\n",
    "  print(\"Your pizza toppings:\")\n",
    "  for topping in toppings:\n",
    "    print(topping)\n",
    "else:\n",
    "  print(\"No toppings added to your pizza.\")\n",
    "  \n",
    "\n",
    "print(\"exercise 2\")\n",
    "\n",
    "userinput = \"\\nHow old are you?\"\n",
    "userinput += \"\\nEnter 'quit' when you are finished. \"\n",
    "\n",
    "while True:\n",
    "    age = input(userinput)\n",
    "    if age == 'quit':\n",
    "        break\n",
    "    ages = int(age)\n",
    "\n",
    "    if ages < 3:\n",
    "        print(f\"You are {ages} years old and, \")\n",
    "        print(\"  You have free ticket!\")\n",
    "    elif ages < 13:\n",
    "        print(f\"You are {ages} years old and, \")\n",
    "        print(\"  Your ticket is $10\")\n",
    "    else:\n",
    "        print(f\"You are {ages} years old and, \")\n",
    "        print(\"  Your ticket is $15\")"
   ]
  },
  {
   "cell_type": "markdown",
   "metadata": {},
   "source": [
    "In both exercises, a while loop is used with a conditional test in the while statement to control how long the loop runs. The loop continues as long as the active variable is True. When the user enters 'quit', the active variable is set to False, and the loop terminates.\n",
    "\n",
    "Additionally, a break statement is used to exit the loop when the user enters a 'quit' value. This allows the loop to be terminated immediately without executing any further code within the loop."
   ]
  },
  {
   "cell_type": "markdown",
   "metadata": {},
   "source": [
    "Q4.\tInfinity: Write a loop that never ends, and run it. (To end the loop, press CTRL-C or close the window displaying the output.) "
   ]
  },
  {
   "cell_type": "code",
   "execution_count": null,
   "metadata": {},
   "outputs": [],
   "source": [
    "while True:\n",
    "    print(\"Tresor\")\n",
    "    pass\n"
   ]
  },
  {
   "cell_type": "markdown",
   "metadata": {},
   "source": [
    "Q5.\tMake a list called sandwich_orders and fill it with the names of various sandwiches. Then make an empty list called finished_sandwiches. Loop through the list of sandwich orders and print a message for each order, such as I made your tuna sandwich. As each sandwich is made, move it to the list of finished sandwiches. After all the sandwiches have been made, print a message listing each sandwich that was made."
   ]
  },
  {
   "cell_type": "code",
   "execution_count": 8,
   "metadata": {},
   "outputs": [
    {
     "name": "stdout",
     "output_type": "stream",
     "text": [
      "I'm working on your roast beef sandwich.\n",
      "I'm working on your turkey sandwich.\n",
      "I'm working on your grilled cheese sandwich.\n",
      "I'm working on your veggie sandwich.\n",
      "\n",
      "\n",
      "I made a roast beef sandwich.\n",
      "I made a turkey sandwich.\n",
      "I made a grilled cheese sandwich.\n",
      "I made a veggie sandwich.\n"
     ]
    }
   ],
   "source": [
    "sandwich_orders = ['veggie', 'grilled cheese', 'turkey', 'roast beef']\n",
    "finished_sandwiches = []\n",
    "\n",
    "while sandwich_orders:\n",
    "    current_sandwich = sandwich_orders.pop()\n",
    "    print(\"I'm working on your \" + current_sandwich + \" sandwich.\")\n",
    "    finished_sandwiches.append(current_sandwich)\n",
    "\n",
    "print(\"\\n\")\n",
    "for sandwich in finished_sandwiches:\n",
    "    print(\"I made a \" + sandwich + \" sandwich.\")"
   ]
  }
 ],
 "metadata": {
  "kernelspec": {
   "display_name": "Python 3 (ipykernel)",
   "language": "python",
   "name": "python3"
  },
  "language_info": {
   "codemirror_mode": {
    "name": "ipython",
    "version": 3
   },
   "file_extension": ".py",
   "mimetype": "text/x-python",
   "name": "python",
   "nbconvert_exporter": "python",
   "pygments_lexer": "ipython3",
   "version": "3.10.9"
  }
 },
 "nbformat": 4,
 "nbformat_minor": 2
}
